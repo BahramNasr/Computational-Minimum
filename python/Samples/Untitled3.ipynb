{
 "cells": [
  {
   "cell_type": "markdown",
   "metadata": {},
   "source": [
    "# Python data structure"
   ]
  },
  {
   "cell_type": "markdown",
   "metadata": {},
   "source": [
    "# Python I/O\n"
   ]
  },
  {
   "cell_type": "code",
   "execution_count": null,
   "metadata": {},
   "outputs": [],
   "source": [
    "print \"you can see this in the standard output\""
   ]
  },
  {
   "cell_type": "code",
   "execution_count": null,
   "metadata": {},
   "outputs": [],
   "source": [
    "print (\"you can see this in the standard output\")"
   ]
  },
  {
   "cell_type": "code",
   "execution_count": null,
   "metadata": {},
   "outputs": [],
   "source": [
    "student_num = 8810154323\n",
    "student_name = \"Zach Galifianakis\"\n",
    "student_GPA = 2.3"
   ]
  },
  {
   "cell_type": "code",
   "execution_count": null,
   "metadata": {},
   "outputs": [],
   "source": [
    "print \"student:\",\" \",student_name,\"with student No.:\",\" \",student_num,\" and GPA: \", student_GPA"
   ]
  },
  {
   "cell_type": "code",
   "execution_count": null,
   "metadata": {},
   "outputs": [],
   "source": [
    "print \"student:\"+\" \"+str(student_name)+\"with student No.:\"+\" \"+str(student_num)+\" and GPA: \"+str(student_GPA)"
   ]
  },
  {
   "cell_type": "code",
   "execution_count": null,
   "metadata": {},
   "outputs": [],
   "source": [
    "print student_name,         student_GPA"
   ]
  },
  {
   "cell_type": "code",
   "execution_count": null,
   "metadata": {
    "scrolled": true
   },
   "outputs": [],
   "source": [
    "print \"studend:%s with student No.:%d, has GPA of: %0.2f\"%(student_name,student_num,student_GPA)"
   ]
  },
  {
   "cell_type": "code",
   "execution_count": null,
   "metadata": {},
   "outputs": [],
   "source": [
    "print \"studend:{n:s} with student No.{no:d}, has GPA of{gpa:0.2f}\".format(n=student_name,no=student_num,gpa=student_GPA)"
   ]
  },
  {
   "cell_type": "code",
   "execution_count": null,
   "metadata": {},
   "outputs": [],
   "source": [
    "# add escape sequence ...."
   ]
  },
  {
   "cell_type": "code",
   "execution_count": 1,
   "metadata": {},
   "outputs": [
    {
     "name": "stdout",
     "output_type": "stream",
     "text": [
      "v0 = 15.0 km/h\n",
      "theta = 60.0 degrees\n",
      "y0 = 1.0 m\n",
      "x = 0.5 m\n",
      "y    = 1.6 m\n"
     ]
    }
   ],
   "source": [
    "g = 9.81    # m/s**2\n",
    "v0 = 15     # km/h\n",
    "theta = 60  # m\n",
    "x = 0.5\n",
    "y0 = 1      # m\n",
    "\n",
    "print \"\"\"\\\n",
    "v0 = %.1f km/h\n",
    "theta = %.1f degrees\n",
    "y0 = %.1f m\n",
    "x = %.1f m\\\n",
    "\"\"\"%(v0, theta, y0, x)\n",
    "\n",
    "from math import pi, tan, cos\n",
    "theta = theta *(pi/180.) \n",
    "v0 = v0/3.6\n",
    "\n",
    "y = x*tan(theta) - 1/(2*v0**2)*g*x**2/cos(theta)**2 + y0\n",
    "\n",
    "print \"y    = %.1f m\" %y"
   ]
  },
  {
   "cell_type": "code",
   "execution_count": null,
   "metadata": {},
   "outputs": [],
   "source": [
    "## 30 31  33"
   ]
  }
 ],
 "metadata": {
  "kernelspec": {
   "display_name": "Python 2",
   "language": "python",
   "name": "python2"
  },
  "language_info": {
   "codemirror_mode": {
    "name": "ipython",
    "version": 2
   },
   "file_extension": ".py",
   "mimetype": "text/x-python",
   "name": "python",
   "nbconvert_exporter": "python",
   "pygments_lexer": "ipython2",
   "version": "2.7.14"
  }
 },
 "nbformat": 4,
 "nbformat_minor": 2
}
