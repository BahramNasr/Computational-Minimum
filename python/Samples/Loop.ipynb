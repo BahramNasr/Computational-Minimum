{
 "cells": [
  {
   "cell_type": "markdown",
   "metadata": {},
   "source": [
    "# while loop"
   ]
  },
  {
   "cell_type": "code",
   "execution_count": null,
   "metadata": {},
   "outputs": [],
   "source": [
    "counter = 1\n",
    "while True:\n",
    "    counter += 1\n",
    "    print \"m\", counter\n",
    "    "
   ]
  },
  {
   "cell_type": "code",
   "execution_count": null,
   "metadata": {},
   "outputs": [],
   "source": [
    "print counter\n"
   ]
  },
  {
   "cell_type": "code",
   "execution_count": null,
   "metadata": {},
   "outputs": [],
   "source": [
    "counter *= 2 "
   ]
  },
  {
   "cell_type": "code",
   "execution_count": null,
   "metadata": {},
   "outputs": [],
   "source": [
    "print counter"
   ]
  },
  {
   "cell_type": "code",
   "execution_count": null,
   "metadata": {},
   "outputs": [],
   "source": [
    "counter /= 2.0 "
   ]
  },
  {
   "cell_type": "code",
   "execution_count": null,
   "metadata": {},
   "outputs": [],
   "source": [
    "counter **= 2.0 "
   ]
  },
  {
   "cell_type": "code",
   "execution_count": null,
   "metadata": {},
   "outputs": [],
   "source": [
    "counter %= 2.0"
   ]
  },
  {
   "cell_type": "code",
   "execution_count": null,
   "metadata": {},
   "outputs": [],
   "source": [
    "counter"
   ]
  },
  {
   "cell_type": "markdown",
   "metadata": {},
   "source": [
    "### break and continue pass"
   ]
  },
  {
   "cell_type": "code",
   "execution_count": 33,
   "metadata": {},
   "outputs": [
    {
     "name": "stdout",
     "output_type": "stream",
     "text": [
      "m 2\n",
      "m 3\n",
      "m 4\n",
      "m 5\n",
      "m 6\n",
      "m 7\n",
      "m 8\n",
      "m 9\n",
      "m 10\n"
     ]
    }
   ],
   "source": [
    "counter = 1\n",
    "while True:\n",
    "    counter += 1\n",
    "    print \"m\", counter\n",
    "    if counter == 4:\n",
    "        continue\n",
    "    elif counter == 10:\n",
    "        break"
   ]
  },
  {
   "cell_type": "code",
   "execution_count": null,
   "metadata": {},
   "outputs": [],
   "source": [
    "while 4:\n",
    "    print (\"be carefull\")"
   ]
  },
  {
   "cell_type": "code",
   "execution_count": null,
   "metadata": {},
   "outputs": [],
   "source": [
    "# when this happen?"
   ]
  },
  {
   "cell_type": "code",
   "execution_count": 69,
   "metadata": {},
   "outputs": [
    {
     "name": "stdout",
     "output_type": "stream",
     "text": [
      "-30.0                                              -22.0\n",
      "-20.0                                               -4.0\n",
      "-10.0                                               14.0\n",
      "0.0                                                 32.0\n",
      "10.0                                                50.0\n",
      "20.0                                                68.0\n",
      "30.0                                                86.0\n",
      "40.0                                               104.0\n",
      "50.0                                               122.0\n"
     ]
    }
   ],
   "source": [
    "def F(C):\n",
    "    F = 9./5*C + 32\n",
    "    return F\n",
    "\n",
    "dC = 10\n",
    "C = -30\n",
    "while C <= 50:\n",
    "    print \"%-50.1f %5.1f\" %(C, F(C))\n",
    "    C += dC"
   ]
  },
  {
   "cell_type": "markdown",
   "metadata": {},
   "source": [
    "# For Loop"
   ]
  },
  {
   "cell_type": "code",
   "execution_count": 30,
   "metadata": {},
   "outputs": [],
   "source": [
    "# range fuction\n"
   ]
  },
  {
   "cell_type": "code",
   "execution_count": 34,
   "metadata": {},
   "outputs": [
    {
     "data": {
      "text/plain": [
       "[0, 1, 2, 3, 4, 5, 6, 7, 8, 9]"
      ]
     },
     "execution_count": 34,
     "metadata": {},
     "output_type": "execute_result"
    }
   ],
   "source": [
    "range(10)"
   ]
  },
  {
   "cell_type": "code",
   "execution_count": 35,
   "metadata": {},
   "outputs": [],
   "source": [
    "# out put"
   ]
  },
  {
   "cell_type": "code",
   "execution_count": 36,
   "metadata": {},
   "outputs": [],
   "source": [
    "# end and start"
   ]
  },
  {
   "cell_type": "code",
   "execution_count": 37,
   "metadata": {},
   "outputs": [
    {
     "name": "stdout",
     "output_type": "stream",
     "text": [
      "-10\n",
      "-9\n",
      "-8\n",
      "-7\n",
      "-6\n",
      "-5\n",
      "-4\n",
      "-3\n",
      "-2\n",
      "-1\n",
      "0\n",
      "1\n",
      "2\n",
      "3\n",
      "4\n",
      "5\n",
      "6\n",
      "7\n",
      "8\n",
      "9\n",
      "10\n"
     ]
    }
   ],
   "source": [
    "for i in range(-10,10 + 1):\n",
    "    print i"
   ]
  },
  {
   "cell_type": "code",
   "execution_count": 38,
   "metadata": {},
   "outputs": [],
   "source": [
    "# only integers\n"
   ]
  },
  {
   "cell_type": "code",
   "execution_count": 39,
   "metadata": {},
   "outputs": [],
   "source": [
    "# output is a list"
   ]
  },
  {
   "cell_type": "markdown",
   "metadata": {},
   "source": [
    "# for and list"
   ]
  },
  {
   "cell_type": "code",
   "execution_count": 47,
   "metadata": {},
   "outputs": [
    {
     "name": "stdout",
     "output_type": "stream",
     "text": [
      "Name a X man:\tWolverin\n",
      "Name a X man:\tProfessor X\n",
      "Name a X man:\tMcCoy\n"
     ]
    }
   ],
   "source": [
    "x_men = []\n",
    "\n",
    "for i in range(3):\n",
    "    a = raw_input(\"Name a X man:\\t\")\n",
    "    a = str(a)   # o s i\n",
    "    x_men.append(a)\n",
    "    \n"
   ]
  },
  {
   "cell_type": "code",
   "execution_count": 48,
   "metadata": {},
   "outputs": [
    {
     "name": "stdout",
     "output_type": "stream",
     "text": [
      "Wolverin\n",
      "Professor X\n",
      "McCoy\n"
     ]
    }
   ],
   "source": [
    "for i in range(len(x_men)):\n",
    "    print x_men[i]"
   ]
  },
  {
   "cell_type": "code",
   "execution_count": 49,
   "metadata": {},
   "outputs": [
    {
     "name": "stdout",
     "output_type": "stream",
     "text": [
      "Wolverin\n",
      "Professor X\n",
      "McCoy\n"
     ]
    }
   ],
   "source": [
    "for x_man in x_men:\n",
    "    print x_man"
   ]
  },
  {
   "cell_type": "code",
   "execution_count": 71,
   "metadata": {},
   "outputs": [],
   "source": [
    "X_Group = [name*2 for name in x_men]"
   ]
  },
  {
   "cell_type": "code",
   "execution_count": 72,
   "metadata": {},
   "outputs": [
    {
     "name": "stdout",
     "output_type": "stream",
     "text": [
      "['WolverinWolverin', 'Professor XProfessor X', 'McCoyMcCoy']\n"
     ]
    }
   ],
   "source": [
    "print X_Group"
   ]
  },
  {
   "cell_type": "code",
   "execution_count": 73,
   "metadata": {
    "scrolled": true
   },
   "outputs": [
    {
     "name": "stdout",
     "output_type": "stream",
     "text": [
      "10\n",
      "10\n",
      "10\n",
      "10\n",
      "10\n",
      "10\n",
      "10\n",
      "10\n",
      "10\n",
      "10\n",
      "10\n",
      "10\n",
      "10\n",
      "10\n",
      "10\n",
      "10\n",
      "10\n",
      "10\n",
      "10\n",
      "10\n",
      "10\n"
     ]
    }
   ],
   "source": [
    "def inlineIF(x):\n",
    "    return \"p\" if x>=0 else \"n\"\n",
    "    \n",
    "X = range(-10,11)\n",
    "\n",
    "m = [bool(x>=0) for x in X]\n",
    "for i in range(len(m)):\n",
    "    print m.index(1)"
   ]
  },
  {
   "cell_type": "code",
   "execution_count": 74,
   "metadata": {},
   "outputs": [
    {
     "name": "stdout",
     "output_type": "stream",
     "text": [
      "AAAGTTCGGGCGGGCGGGATCATGGAGGTAATGCCTGGCCCACTATGAAATCGACATGGGCACAACTAGGATATAGCCACCCCGCACATTTCCAAAGTTAACACGTCAATCGATGTAAGGAAAGAATCAGCGGTCAGGCTGGTACGCGGACACGACGGCATCTCGTCAAACCACAATCAAAGGGCATTCGGGCAGTTTATTCGGCATTTTGGGTAAACATACTCTACAGTCATTCACCGGGTTTACAGTTACTCGGTAGCAAGAGTCAACTGTACGAGTCATTCCGACAAATCATGCAACGTGGCTTGAACCTGGTTTGTTCGCTGTTCACACGGTCACTGTCTTACACGAGCCCTACATTAAGATGTTGCTGCTGAAGTACCAGAAGGAAACCGTGATGCGCCTCCGCCGTAACATTCCCACGCTTTAGTATATGCACTGCGAACACGGGCGAGAACTTTAATACTTCCTACCCTAGTTTGAGATAGGGCGAAAAGGGGGTCCCCACATCAACGCTGCATTCGAAGAGGCTCTAGAACTAAACTGCCCCTGCGGCGCTCTGTGAAAGGGACACACAGGTTGTTTCCTGAACCAGAGAACAGTGTCCGGTGGGTACTCGCCAAGCGAGGCACATTTCTACTCATATCCGGTTGCCCTAGCATTTTGTGATCGACTTCACCTGCTTGTCTGTTGTCCTGTGCATTCGGCAGTATTGAAGTAGTAGGTATGGTTCCCAGAGCAATACTAGCCTAACGTCTGAGTCTTCTTTGCTAGTCAAGCGAACGACTCTGTTCCTATGTATTGCGGCATAAGTGCACATCTAACAAACATGAAGCAGTTAGTGTGCACGCCAGTAGAGATAGCGGGTCTGTATTCGGCGACTTGAGAGACGTTCGTAATACCGCTAAGGCCTTTACCAAGGGCTGACCAGTACCACCTTCGACTTATGTCGTATGCCTCCTGTCTTCCTCGGACGTAGGCAATGAGTGTATGCTCAGCT\n"
     ]
    }
   ],
   "source": [
    "import random as R\n",
    "\n",
    "def generate_string(N,alphabet=\"ACGT\"):\n",
    "    return ''.join([R.choice(alphabet) for i in range(N)])\n",
    "\n",
    "print generate_string(1000)"
   ]
  },
  {
   "cell_type": "markdown",
   "metadata": {},
   "source": [
    "# for and Tuple"
   ]
  },
  {
   "cell_type": "code",
   "execution_count": 54,
   "metadata": {},
   "outputs": [],
   "source": [
    "t = (2, 4, 6, \"majid\")"
   ]
  },
  {
   "cell_type": "code",
   "execution_count": 55,
   "metadata": {},
   "outputs": [
    {
     "name": "stdout",
     "output_type": "stream",
     "text": [
      "2\n",
      "4\n",
      "6\n",
      "majid\n"
     ]
    }
   ],
   "source": [
    "for i in t:\n",
    "    print i"
   ]
  },
  {
   "cell_type": "code",
   "execution_count": 56,
   "metadata": {},
   "outputs": [
    {
     "name": "stdout",
     "output_type": "stream",
     "text": [
      "2\n",
      "4\n",
      "6\n",
      "majid\n",
      "2\n",
      "3\n",
      "4\n",
      "5\n",
      "6\n"
     ]
    }
   ],
   "source": [
    "for i in t +(2, 3, 4, 5, 6):\n",
    "    print i"
   ]
  },
  {
   "cell_type": "code",
   "execution_count": 62,
   "metadata": {},
   "outputs": [
    {
     "name": "stdout",
     "output_type": "stream",
     "text": [
      "Jan                                     : 55.9\n",
      "Feb                                     : 32.5\n",
      "Mar                                     : 45.5\n",
      "Apr                                     : 65.9\n",
      "May                                     : 21.4\n",
      "Jul                                     : 32.8\n"
     ]
    }
   ],
   "source": [
    "month_names = 'Jan', 'Feb', 'Mar', 'Apr', 'May',\\\n",
    "              'Jul'\n",
    "temperature = 55.9, 32.5, 45.5, 65.9,\\\n",
    "              21.4, 32.8\n",
    "\n",
    "for name, value in zip(month_names, temperature):\n",
    "    print \"%-40s: %3.1f\" %(name, value)"
   ]
  },
  {
   "cell_type": "code",
   "execution_count": 75,
   "metadata": {},
   "outputs": [
    {
     "data": {
      "text/plain": [
       "[('Jan', 55.9),\n",
       " ('Feb', 32.5),\n",
       " ('Mar', 45.5),\n",
       " ('Apr', 65.9),\n",
       " ('May', 21.4),\n",
       " ('Jul', 32.8)]"
      ]
     },
     "execution_count": 75,
     "metadata": {},
     "output_type": "execute_result"
    }
   ],
   "source": [
    "zip(month_names, temperature)"
   ]
  },
  {
   "cell_type": "markdown",
   "metadata": {},
   "source": [
    "## For and Dictionary"
   ]
  },
  {
   "cell_type": "code",
   "execution_count": 76,
   "metadata": {},
   "outputs": [],
   "source": [
    "ab = {\n",
    "    'Swaroop': 'swaroop@swaroopch.com',\n",
    "    'Larry': 'larry@wall.org',\n",
    "    'Matsumoto': 'matz@ruby-lang.org',\n",
    "    'Spammer': 'spammer@hotmail.com'\n",
    "}"
   ]
  },
  {
   "cell_type": "code",
   "execution_count": 77,
   "metadata": {},
   "outputs": [
    {
     "name": "stdout",
     "output_type": "stream",
     "text": [
      "Swaroop\n",
      "Matsumoto\n",
      "Larry\n",
      "Spammer\n"
     ]
    }
   ],
   "source": [
    "for i in ab:\n",
    "    print i"
   ]
  },
  {
   "cell_type": "code",
   "execution_count": null,
   "metadata": {},
   "outputs": [],
   "source": []
  }
 ],
 "metadata": {
  "kernelspec": {
   "display_name": "Python 2",
   "language": "python",
   "name": "python2"
  },
  "language_info": {
   "codemirror_mode": {
    "name": "ipython",
    "version": 2
   },
   "file_extension": ".py",
   "mimetype": "text/x-python",
   "name": "python",
   "nbconvert_exporter": "python",
   "pygments_lexer": "ipython2",
   "version": "2.7.14"
  }
 },
 "nbformat": 4,
 "nbformat_minor": 2
}
