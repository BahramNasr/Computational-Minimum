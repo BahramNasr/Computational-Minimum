{
 "cells": [
  {
   "cell_type": "markdown",
   "metadata": {},
   "source": [
    "# Function examples"
   ]
  },
  {
   "cell_type": "code",
   "execution_count": null,
   "metadata": {},
   "outputs": [],
   "source": [
    "def s2y(ageINsec):\n",
    "    \"\"\" this fuction turn age in second\\\n",
    "    age in year\"\"\"\n",
    "    return ageINsec/(365*24*3600)\n",
    "\n",
    "print \"%.5e secs old is %0.16f years old\"%(1.E10, s2y(1.E10))"
   ]
  },
  {
   "cell_type": "code",
   "execution_count": null,
   "metadata": {},
   "outputs": [],
   "source": [
    "import random as R\n",
    "\n",
    "def generate_string(N,alphabet=\"ACGT\"):\n",
    "    return ''.join([R.choice(alphabet) for i in range(N)])\n",
    "\n",
    "print generate_string(1000)"
   ]
  },
  {
   "cell_type": "code",
   "execution_count": null,
   "metadata": {},
   "outputs": [],
   "source": [
    "from sympy import symbols\n",
    "\n",
    "def polyroot(x, R):\n",
    "    x = symbols('x')\n",
    "    p = 1.0\n",
    "    for r in range(len(R)):\n",
    "        p *= (x-r)\n",
    "    print p\n",
    "\n",
    "polyroot(x,[1,2])"
   ]
  },
  {
   "cell_type": "code",
   "execution_count": null,
   "metadata": {},
   "outputs": [],
   "source": [
    "def inlineIF(x):\n",
    "    return \"p\" if x>=0 else \"n\"\n",
    "    \n",
    "X = range(-10,11)\n",
    "\n",
    "m = [bool(x>=0) for x in X]\n",
    "for i in range(len(m)):\n",
    "    print m.index(1)"
   ]
  },
  {
   "cell_type": "code",
   "execution_count": null,
   "metadata": {},
   "outputs": [],
   "source": [
    "import math as m\n",
    "def yfunc (t, v0 = 0):\n",
    "    g = 9.81\n",
    "    y = v0*t - 0.5*g*t**2\n",
    "    dydt = v0 - g*t\n",
    "    return y, dydt\n",
    "\n",
    "print yfunc(0.6,3)\n",
    "\n",
    "\n",
    "x = 1; n = 100;\n",
    "def L(x, n):\n",
    "    s = 0.0\n",
    "    for i in range(1,n+1):\n",
    "        s += (1.0/i)*(x/(1.0+x))**i\n",
    "    return s\n",
    "\n",
    "def test(x):\n",
    "    \"\"\"\n",
    "    Test Function\n",
    "    \"\"\"\n",
    "    for i in range(1,100):\n",
    "        print \"n = %5d, error is equal to: %.16e\"%(i, abs(L(x, i)-m.log(1+x)))\n",
    "\n",
    "    \n",
    "def dif2(f, x, h = 1E-16):\n",
    "    r = (f(x-h) - 2*f(x) + f(x+h))/float(h*h)\n",
    "    return r\n",
    "    \n",
    "def g(x):\n",
    "    return x**2\n",
    "    \n",
    "def global_test(f, g, x):\n",
    "    print \"the differece is equal to %0.16e\"%(abs(f(g(x),x) - g(x)))  "
   ]
  },
  {
   "cell_type": "code",
   "execution_count": null,
   "metadata": {},
   "outputs": [],
   "source": [
    "def F(C):\n",
    "    F = 9./5*C + 32\n",
    "    return F\n",
    "\n",
    "dC = 10\n",
    "C = -30\n",
    "while C <= 50:\n",
    "    print \"%5.1f %5.1f\" %(C, F(C))\n",
    "    C += dC"
   ]
  },
  {
   "cell_type": "code",
   "execution_count": null,
   "metadata": {},
   "outputs": [],
   "source": [
    "import time\n",
    "t0 = time.time()\n",
    "while time.time() - t0 < 10 :\n",
    "    print \"I like while loop!\"\n",
    "    time.sleep(2)\n",
    "print \"Oh, miss while loop!\""
   ]
  },
  {
   "cell_type": "code",
   "execution_count": null,
   "metadata": {},
   "outputs": [],
   "source": [
    "a = 1/947.0 * 947\n",
    "tol = 2.0e-16\n",
    "if abs(a-1) < tol :\n",
    "    print \"OK\"\n",
    "else:\n",
    "    print \"not OK\""
   ]
  },
  {
   "cell_type": "code",
   "execution_count": null,
   "metadata": {},
   "outputs": [],
   "source": [
    "eps = 1.0\n",
    "n = 1\n",
    "while 1.0 != 1.0 + eps:\n",
    "    print '-------------',eps\n",
    "    eps = eps / 2\n",
    "    n += 1\n",
    "print_string = \"after {n:d} iteration eps is {eps:e}\".format(n=n, eps=eps)\n",
    "print print_string"
   ]
  },
  {
   "cell_type": "code",
   "execution_count": null,
   "metadata": {},
   "outputs": [],
   "source": [
    "from math import sqrt\n",
    "import matplotlib.pyplot as plt\n",
    "\n",
    "R = []\n",
    "for n in range(1, 60):\n",
    "    r = 2.0\n",
    "    for i in range(n):\n",
    "        r = sqrt(r)\n",
    "#    print \"iteration %d, r =%.20f\" %(n, r)\n",
    "    for i in range(n):\n",
    "        r = r**2\n",
    "    print \"iteration %d, r =%.16f\" %(n, r)\n",
    "    R.append(r)\n",
    "\n",
    "plt.plot(range(1,60),R)"
   ]
  },
  {
   "cell_type": "code",
   "execution_count": 9,
   "metadata": {},
   "outputs": [
    {
     "name": "stdout",
     "output_type": "stream",
     "text": [
      "5.17737751764\n"
     ]
    }
   ],
   "source": [
    "s = 0; k = 1; k_max = 100\n",
    "while k < k_max:\n",
    "    s += 1.0/k\n",
    "    k += 1\n",
    "print s"
   ]
  },
  {
   "cell_type": "code",
   "execution_count": 10,
   "metadata": {},
   "outputs": [
    {
     "name": "stdout",
     "output_type": "stream",
     "text": [
      "--------------------------\n",
      "-20   -4.0\n",
      "-15    5.0\n",
      "-10   14.0\n",
      " -5   23.0\n",
      "  0   32.0\n",
      "  5   41.0\n",
      " 10   50.0\n",
      " 15   59.0\n",
      " 20   68.0\n",
      " 25   77.0\n",
      " 30   86.0\n",
      " 35   95.0\n",
      " 40  104.0\n",
      "--------------------------\n"
     ]
    }
   ],
   "source": [
    "print \"--------------------------\"\n",
    "C = -20\n",
    "dC = 5\n",
    "while C <= 40:\n",
    "    F = (9.0/5.0)*C + 32.0\n",
    "    print \"%3d  %5.1f\"%(C,F)\n",
    "    C += dC\n",
    "print \"--------------------------\""
   ]
  },
  {
   "cell_type": "code",
   "execution_count": 11,
   "metadata": {},
   "outputs": [
    {
     "name": "stdout",
     "output_type": "stream",
     "text": [
      "Dear user, I'm not in a mood for that\n"
     ]
    }
   ],
   "source": [
    "def convertor(m, con_str, b = 1):\n",
    "    \"\"\" this function convert meter to other\\n length units by changing the con_str key\n",
    "    by the table belw\n",
    "    units   key\n",
    "    ---------------\n",
    "    inch     I \n",
    "    foot     f \n",
    "    yard     y\n",
    "    ---------------\n",
    "    for backward conversion set b = -1\n",
    "    \"\"\"\n",
    "    if (con_str == \"I\"):\n",
    "        return (m)*(100/2.5)**b\n",
    "    else :\n",
    "        return \"Dear user, I'm not in a mood for that\"\n",
    "        \n",
    "print convertor(0.025, \"Y\")\n",
    "        "
   ]
  },
  {
   "cell_type": "code",
   "execution_count": 12,
   "metadata": {},
   "outputs": [
    {
     "name": "stdout",
     "output_type": "stream",
     "text": [
      "for 1000, MG is 1030.30100 Rials\n"
     ]
    }
   ],
   "source": [
    "def MoneyGrowth(A, p, n,unit_str):\n",
    "    \"\"\"A: initial value\n",
    "    p: bank's interest in percent\n",
    "    n: deposite time in years\n",
    "    unit_str: is your currency unit\n",
    "    \"\"\"\n",
    "    return A, A*(1+p/100.)**n,unit_str\n",
    "A = 1000\n",
    "p = 1\n",
    "\n",
    "\n",
    "print \"for %.f, MG is %.5f %s\" %(MoneyGrowth(A,p,3,\"Rials\"))\n"
   ]
  },
  {
   "cell_type": "code",
   "execution_count": 13,
   "metadata": {},
   "outputs": [
    {
     "name": "stdout",
     "output_type": "stream",
     "text": [
      "0.241970724519\n"
     ]
    }
   ],
   "source": [
    "def f(x = 1, s = 1, m = 0):\n",
    "    from math import sqrt, exp, pi\n",
    "    print exp(-0.5*(x-m)**2/s**2)/(sqrt(2*pi)*s)\n",
    "f()\n",
    "    "
   ]
  },
  {
   "cell_type": "code",
   "execution_count": 14,
   "metadata": {},
   "outputs": [
    {
     "name": "stdout",
     "output_type": "stream",
     "text": [
      "0.000184879302979\n",
      "1.46484375e-05\n"
     ]
    }
   ],
   "source": [
    "def makeList(stop, start = 0, inc = 1):\n",
    "    value = start\n",
    "    values = []\n",
    "    while value < stop:\n",
    "        values.append(value)\n",
    "        value += inc\n",
    "    return values\n",
    "\n",
    "pp = 100\n",
    "\n",
    "import time  \n",
    "t0 = time.time()       \n",
    "for i in range(pp):\n",
    "    makeList(1000)\n",
    "print (time.time() - t0)/pp\n",
    "\n",
    "\n",
    "t0 = time.time()       \n",
    "for i in range(pp):\n",
    "    range(1000)\n",
    "print (time.time() - t0)/100\n",
    "   "
   ]
  },
  {
   "cell_type": "code",
   "execution_count": 15,
   "metadata": {},
   "outputs": [
    {
     "name": "stdout",
     "output_type": "stream",
     "text": [
      "1\n",
      "<type 'str'>\n",
      "1\n",
      "<type 'int'>\n",
      "2.4\n",
      "<type 'str'>\n",
      "2.4\n",
      "<type 'float'>\n",
      "[2,4,5]\n",
      "<type 'str'>\n",
      "[2, 4, 5]\n",
      "<type 'list'>\n",
      "(2,4)\n",
      "<type 'str'>\n",
      "(2, 4)\n",
      "<type 'tuple'>\n"
     ]
    }
   ],
   "source": [
    "m_list = [\"1\",\"2.4\",\"[2,4,5]\",\"(2,4)\"]\n",
    "\n",
    "for i in range(4):\n",
    "\tprint m_list[i]\n",
    "\tprint type(m_list[i])\n",
    "\tm_list[i] = eval(m_list[i])\n",
    "\tprint m_list[i]\n",
    "\tprint type(m_list[i])\t"
   ]
  },
  {
   "cell_type": "code",
   "execution_count": null,
   "metadata": {},
   "outputs": [],
   "source": []
  }
 ],
 "metadata": {
  "kernelspec": {
   "display_name": "Python 2",
   "language": "python",
   "name": "python2"
  },
  "language_info": {
   "codemirror_mode": {
    "name": "ipython",
    "version": 2
   },
   "file_extension": ".py",
   "mimetype": "text/x-python",
   "name": "python",
   "nbconvert_exporter": "python",
   "pygments_lexer": "ipython2",
   "version": "2.7.14"
  }
 },
 "nbformat": 4,
 "nbformat_minor": 2
}
